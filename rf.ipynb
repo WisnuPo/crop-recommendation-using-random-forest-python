{
 "cells": [
  {
   "cell_type": "markdown",
   "metadata": {},
   "source": [
    "# **Crop Recommendation using Random Forest Algorithm**\n",
    "\n",
    "##### Project ini saya buat untuk memprediksi jenis tanaman apa yang cocok ditanaman berdasarkan beberapa indikator."
   ]
  },
  {
   "cell_type": "code",
   "execution_count": 25,
   "metadata": {},
   "outputs": [],
   "source": [
    "# import library\n",
    "import pandas as pd\n",
    "import numpy as np\n",
    "import matplotlib.pyplot as plt\n",
    "from sklearn.ensemble import RandomForestClassifier\n",
    "from sklearn.model_selection import train_test_split\n",
    "from sklearn.metrics import accuracy_score, confusion_matrix\n",
    "from sklearn.preprocessing import MinMaxScaler"
   ]
  },
  {
   "cell_type": "code",
   "execution_count": 7,
   "metadata": {},
   "outputs": [
    {
     "name": "stdout",
     "output_type": "stream",
     "text": [
      "data yang akan digunakan adalah \n",
      "     N   P   K  temperature   humidity        ph    rainfall label\n",
      "0  90  42  43    20.879744  82.002744  6.502985  202.935536  rice\n",
      "1  85  58  41    21.770462  80.319644  7.038096  226.655537  rice\n",
      "2  60  55  44    23.004459  82.320763  7.840207  263.964248  rice\n",
      "3  74  35  40    26.491096  80.158363  6.980401  242.864034  rice\n",
      "4  78  42  42    20.130175  81.604873  7.628473  262.717340  rice\n"
     ]
    }
   ],
   "source": [
    "# import dataset\n",
    "data = pd.read_csv('Crop_recommendation.csv')\n",
    "print('data yang akan digunakan adalah \\n', data.head())"
   ]
  },
  {
   "cell_type": "code",
   "execution_count": 14,
   "metadata": {},
   "outputs": [
    {
     "name": "stdout",
     "output_type": "stream",
     "text": [
      "statistik deskriprif dari data adalah: \n",
      "               count        mean        std        min        25%        50%  \\\n",
      "N            2200.0   50.551818  36.917334   0.000000  21.000000  37.000000   \n",
      "P            2200.0   53.362727  32.985883   5.000000  28.000000  51.000000   \n",
      "K            2200.0   48.149091  50.647931   5.000000  20.000000  32.000000   \n",
      "temperature  2200.0   25.616244   5.063749   8.825675  22.769375  25.598693   \n",
      "humidity     2200.0   71.481779  22.263812  14.258040  60.261953  80.473146   \n",
      "ph           2200.0    6.469480   0.773938   3.504752   5.971693   6.425045   \n",
      "rainfall     2200.0  103.463655  54.958389  20.211267  64.551686  94.867624   \n",
      "\n",
      "                    75%         max  \n",
      "N             84.250000  140.000000  \n",
      "P             68.000000  145.000000  \n",
      "K             49.000000  205.000000  \n",
      "temperature   28.561654   43.675493  \n",
      "humidity      89.948771   99.981876  \n",
      "ph             6.923643    9.935091  \n",
      "rainfall     124.267508  298.560117  \n"
     ]
    }
   ],
   "source": [
    "# melihat statistik deskripsi dari data\n",
    "print('statistik deskriprif dari data adalah: \\n', data.describe().T)"
   ]
  },
  {
   "cell_type": "code",
   "execution_count": 15,
   "metadata": {},
   "outputs": [
    {
     "name": "stdout",
     "output_type": "stream",
     "text": [
      "statistik deskriptif dari kolom label adalah: \n",
      " count     2200\n",
      "unique      22\n",
      "top       rice\n",
      "freq       100\n",
      "Name: label, dtype: object\n"
     ]
    }
   ],
   "source": [
    "# melihat statistik deskriptif dari kolom label\n",
    "print('statistik deskriptif dari kolom label adalah: \\n', data['label'].describe().T)"
   ]
  },
  {
   "cell_type": "code",
   "execution_count": 21,
   "metadata": {},
   "outputs": [
    {
     "name": "stdout",
     "output_type": "stream",
     "text": [
      "jumlah missing value di dalam data adalah:\n",
      " N              0\n",
      "P              0\n",
      "K              0\n",
      "temperature    0\n",
      "humidity       0\n",
      "ph             0\n",
      "rainfall       0\n",
      "label          0\n",
      "dtype: int64\n"
     ]
    }
   ],
   "source": [
    "# melihat missing value\n",
    "print('jumlah missing value di dalam data adalah:\\n', data.isna().sum())"
   ]
  },
  {
   "cell_type": "code",
   "execution_count": 24,
   "metadata": {},
   "outputs": [
    {
     "name": "stdout",
     "output_type": "stream",
     "text": [
      "tipe data dari masing-masing kolom adalah: \n",
      " N                int64\n",
      "P                int64\n",
      "K                int64\n",
      "temperature    float64\n",
      "humidity       float64\n",
      "ph             float64\n",
      "rainfall       float64\n",
      "label           object\n",
      "dtype: object\n"
     ]
    }
   ],
   "source": [
    "# melihat tipe data kolom\n",
    "print('tipe data dari masing-masing kolom adalah: \\n', data.dtypes)"
   ]
  },
  {
   "cell_type": "code",
   "execution_count": 31,
   "metadata": {},
   "outputs": [
    {
     "name": "stdout",
     "output_type": "stream",
     "text": [
      "data yang sudah di normalisasi adalah: \n",
      "              N         P      K  temperature  humidity        ph  rainfall  \\\n",
      "0     0.642857  0.264286  0.190     0.345886  0.790267  0.466264  0.656458   \n",
      "1     0.607143  0.378571  0.180     0.371445  0.770633  0.549480  0.741675   \n",
      "2     0.428571  0.357143  0.195     0.406854  0.793977  0.674219  0.875710   \n",
      "3     0.528571  0.214286  0.175     0.506901  0.768751  0.540508  0.799905   \n",
      "4     0.557143  0.264286  0.185     0.324378  0.785626  0.641291  0.871231   \n",
      "...        ...       ...    ...          ...       ...       ...       ...   \n",
      "2195  0.764286  0.207143  0.135     0.515037  0.608410  0.509353  0.566064   \n",
      "2196  0.707143  0.071429  0.110     0.533473  0.494359  0.401561  0.386972   \n",
      "2197  0.842857  0.200000  0.125     0.439202  0.617880  0.444433  0.550071   \n",
      "2198  0.835714  0.192857  0.145     0.500627  0.441760  0.506045  0.384280   \n",
      "2199  0.742857  0.092857  0.125     0.424029  0.538222  0.509317  0.433721   \n",
      "\n",
      "       label  \n",
      "0       rice  \n",
      "1       rice  \n",
      "2       rice  \n",
      "3       rice  \n",
      "4       rice  \n",
      "...      ...  \n",
      "2195  coffee  \n",
      "2196  coffee  \n",
      "2197  coffee  \n",
      "2198  coffee  \n",
      "2199  coffee  \n",
      "\n",
      "[2200 rows x 8 columns]\n"
     ]
    }
   ],
   "source": [
    "# menormalisasi data\n",
    "scaler = MinMaxScaler()\n",
    "\n",
    "data_numerik = data.select_dtypes(include=['number']).columns\n",
    "\n",
    "data[data_numerik] = scaler.fit_transform(data[data_numerik])\n",
    "\n",
    "print('data yang sudah di normalisasi adalah: \\n', data)"
   ]
  },
  {
   "cell_type": "code",
   "execution_count": 49,
   "metadata": {},
   "outputs": [
    {
     "name": "stdout",
     "output_type": "stream",
     "text": [
      "N              2200\n",
      "P              2200\n",
      "K              2200\n",
      "temperature    2200\n",
      "humidity       2200\n",
      "ph             2200\n",
      "rainfall       2200\n",
      "dtype: int64\n",
      "2200\n",
      "akurasi dari model ini adalah: 0.9931818181818182\n"
     ]
    }
   ],
   "source": [
    "# membagi dataset menjadi x dan y\n",
    "x = data[data_numerik]\n",
    "y = data['label']\n",
    "\n",
    "print(x.count())\n",
    "print(y.count())\n",
    "\n",
    "#  membagi dataset menjadi training dan testing\n",
    "x_train, x_test, y_train, y_test = train_test_split(x, y, test_size=0.2, random_state=42)\n",
    "\n",
    "# define model\n",
    "model = RandomForestClassifier()\n",
    "\n",
    "# melatih model\n",
    "model.fit(x_train, y_train)\n",
    "\n",
    "# prediksi model\n",
    "ypred = model.predict(x_test)\n",
    "\n",
    "# akurasi\n",
    "akurasi = accuracy_score(y_test, ypred)\n",
    "print('akurasi dari model ini adalah:', akurasi)"
   ]
  }
 ],
 "metadata": {
  "kernelspec": {
   "display_name": "Python 3",
   "language": "python",
   "name": "python3"
  },
  "language_info": {
   "codemirror_mode": {
    "name": "ipython",
    "version": 3
   },
   "file_extension": ".py",
   "mimetype": "text/x-python",
   "name": "python",
   "nbconvert_exporter": "python",
   "pygments_lexer": "ipython3",
   "version": "3.10.11"
  }
 },
 "nbformat": 4,
 "nbformat_minor": 2
}
